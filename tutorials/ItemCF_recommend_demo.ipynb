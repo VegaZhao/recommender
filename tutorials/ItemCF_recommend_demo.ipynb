{
 "cells": [
  {
   "cell_type": "markdown",
   "metadata": {},
   "source": [
    "## 基于物品的协同过滤算法itemCF"
   ]
  },
  {
   "cell_type": "markdown",
   "metadata": {},
   "source": [
    "统计用户行为数据，计算电影之间的相似度，从而推荐用户喜爱电影中相似的电影"
   ]
  },
  {
   "cell_type": "code",
   "execution_count": 69,
   "metadata": {},
   "outputs": [],
   "source": [
    "# coding:utf-8\n",
    "import numpy as np\n",
    "import pandas as pd\n",
    "import random\n",
    "import math\n",
    "import operator\n",
    "import time\n",
    "from sklearn.utils import shuffle"
   ]
  },
  {
   "cell_type": "markdown",
   "metadata": {},
   "source": [
    "### 读取数据"
   ]
  },
  {
   "cell_type": "code",
   "execution_count": 70,
   "metadata": {},
   "outputs": [],
   "source": [
    "movies = pd.read_csv('data/v1_movie_info.csv',\\\n",
    "                        usecols=[0, 1, 6], header=0, names=['movieId', 'title', 'genres'])\n",
    "\n",
    "df_train = pd.read_csv('data/v1_train.csv', \\\n",
    "                       usecols=[0, 1, 2])  # userId, movieId, rating"
   ]
  },
  {
   "cell_type": "markdown",
   "metadata": {},
   "source": [
    "### 设置参数"
   ]
  },
  {
   "cell_type": "code",
   "execution_count": 71,
   "metadata": {},
   "outputs": [],
   "source": [
    "# 推荐电影数\n",
    "reco_num = 5\n",
    "# 加权求和计算的相似项个数\n",
    "sim_num = 10"
   ]
  },
  {
   "cell_type": "markdown",
   "metadata": {},
   "source": [
    "### 功能函数"
   ]
  },
  {
   "cell_type": "markdown",
   "metadata": {},
   "source": [
    "获取全局热门电影"
   ]
  },
  {
   "cell_type": "code",
   "execution_count": 72,
   "metadata": {},
   "outputs": [
    {
     "data": {
      "text/plain": [
       "{50: 1.0, 100: 0.97, 181: 0.99, 258: 0.98, 294: 0.96}"
      ]
     },
     "execution_count": 72,
     "metadata": {},
     "output_type": "execute_result"
    }
   ],
   "source": [
    "def getHotItem(df_train, N=5):\n",
    "    \"\"\"\n",
    "    param:\n",
    "        df_train: 训练数据集 type:dataframe\n",
    "        N: 推荐的电影数\n",
    "    return: \n",
    "        hot_rank: 该用户的推荐热门电影列表 type:dict, key:user, value:dict, key:item, value:sim\n",
    "    \"\"\"\n",
    "\n",
    "    item_count = df_train.groupby('movieId')['rating'].count().sort_values(ascending=False)\n",
    "\n",
    "    hot_rank = {}\n",
    "\n",
    "    r = 0\n",
    "    for item_id in item_count[0:N].index:\n",
    "        hot_rank[item_id] = 1 - 0.01 * r\n",
    "        r += 1\n",
    "    return hot_rank\n",
    "\n",
    "hot_rank = getHotItem(df_train, reco_num)\n",
    "\n",
    "hot_rank"
   ]
  },
  {
   "cell_type": "markdown",
   "metadata": {},
   "source": [
    "生成用户-电影排列表"
   ]
  },
  {
   "cell_type": "code",
   "execution_count": 73,
   "metadata": {},
   "outputs": [
    {
     "data": {
      "text/plain": [
       "{264.0: 2.0,\n",
       " 270.0: 5.0,\n",
       " 271.0: 2.0,\n",
       " 288.0: 4.0,\n",
       " 302.0: 5.0,\n",
       " 313.0: 5.0,\n",
       " 324.0: 4.0,\n",
       " 327.0: 4.0,\n",
       " 340.0: 3.0,\n",
       " 343.0: 2.0,\n",
       " 347.0: 3.0,\n",
       " 690.0: 3.0,\n",
       " 751.0: 2.0,\n",
       " 880.0: 3.0}"
      ]
     },
     "execution_count": 73,
     "metadata": {},
     "output_type": "execute_result"
    }
   ],
   "source": [
    "def userItemDict(data):\n",
    "    \"\"\"\n",
    "    param:\n",
    "        data: lsit [user, item, rating]\n",
    "    return:\n",
    "        user_item: 用户-电影排列表 type:dict, key:user, value:dict, key:item, value:rate\n",
    "    \"\"\"\n",
    "    user_item = {}\n",
    "    for user, item, rate in data:\n",
    "        if user not in user_item:\n",
    "            user_item[user] = {}\n",
    "        user_item[user].update({item: rate})\n",
    "    return user_item\n",
    "\n",
    "# 生成user-tiem排列表\n",
    "user_item = userItemDict(df_train.values)\n",
    "\n",
    "user_item[105]"
   ]
  },
  {
   "cell_type": "markdown",
   "metadata": {},
   "source": [
    "计算电影相似度"
   ]
  },
  {
   "cell_type": "code",
   "execution_count": 74,
   "metadata": {},
   "outputs": [
    {
     "data": {
      "text/plain": [
       "[(672.0, 0.10234357345919975),\n",
       " (218.0, 0.09445000329581626),\n",
       " (447.0, 0.09218964096745205),\n",
       " (234.0, 0.09175163649384785),\n",
       " (559.0, 0.08846896278134712),\n",
       " (53.0, 0.084078336863534)]"
      ]
     },
     "execution_count": 74,
     "metadata": {},
     "output_type": "execute_result"
    }
   ],
   "source": [
    "def itemSimilarity(user_item):\n",
    "    \"\"\"\n",
    "    param:\n",
    "        user_item: 用户-电影排列表 type:dict, key:user, value:dict, key:item, value: rate\n",
    "    return: \n",
    "        W：物品相似度矩阵，type:dict, key:item_i, value:dict, key:item_j, value:similarity\n",
    "    \"\"\"\n",
    "    # C[i][j]存储观看电影i和j的用户数\n",
    "    C = {}\n",
    "    # 统计item的观看量 N[i]记录观看电影i的用户数\n",
    "    N = {}\n",
    "    for u, items in user_item.items():\n",
    "        for item_i in items:\n",
    "            N.setdefault(item_i, 0)\n",
    "            N[item_i] += 1\n",
    "            for item_j in items:\n",
    "                if item_i == item_j:\n",
    "                    continue\n",
    "                C.setdefault(item_i, {})\n",
    "                C[item_i].setdefault(item_j, 0)\n",
    "                # 统计观看了电影i和电影j的用户数\n",
    "                # 1.传统方法\n",
    "                # C[item_i][item_j] += 1\n",
    "                # 2.优化方法，削弱了活跃用户的贡献度，用户观看电影越多其影响越弱\n",
    "                C[item_i][item_j] += 1 / math.log(1 + len(items) * 1.0)\n",
    "    # 电影相似矩阵\n",
    "    W = {}\n",
    "\n",
    "    #  item1, {item2: num, item3: num}\n",
    "    for item_i, related_items in C.items():\n",
    "\n",
    "        for item_j, cij in related_items.items():\n",
    "            W.setdefault(item_i, {})\n",
    "            W[item_i].setdefault(item_j, 0)\n",
    "            # 计算相似度\n",
    "            W[item_i][item_j] = cij / math.sqrt(N[item_i] * N[item_j])\n",
    "\n",
    "    return W\n",
    "\n",
    "# 生成电影相似度字典\n",
    "item_sim = itemSimilarity(user_item)\n",
    "\n",
    "sorted(item_sim[5].items(), key=operator.itemgetter(1), reverse=True)[0:6]"
   ]
  },
  {
   "cell_type": "markdown",
   "metadata": {},
   "source": [
    "推荐系统"
   ]
  },
  {
   "cell_type": "code",
   "execution_count": 75,
   "metadata": {},
   "outputs": [],
   "source": [
    "def recommendation(user_item, user_id, W, hot_rank, K, R):\n",
    "    \"\"\"\n",
    "    param:\n",
    "        user_item: 用户-电影排列表 type:dict, key:user, value:dict, key:item, value:rate\n",
    "        user_id: 推荐的用户id\n",
    "        W: 电影相似矩阵, type:dict, key:item_i, value:dict, key:item_j, value:similarity\n",
    "        hot_rank: 热门电影列表, type:dict, key:user, value:dict, key:item, value:sim\n",
    "        K: 前K个最相似电影\n",
    "        R: 推荐列表中电影个数\n",
    "    return: \n",
    "        rank_sorted：该用户的推荐电影列表 type:dict, key:user, value:dict, key:item, value:sim\n",
    "    \"\"\"\n",
    "    # 存储用户推荐电影\n",
    "    rank = {}\n",
    "    # 开辟用户空子字典 ('rank: ', {user_id: {}})\n",
    "    rank.setdefault(user_id, {})\n",
    "\n",
    "    # 如果该用户不在训练集中，则推荐热门电影\n",
    "    if user_id not in user_item:\n",
    "        print('user {} not in trainset, give hot rank list'.format(user_id))\n",
    "        rank[user_id] = hot_rank\n",
    "    else:\n",
    "        # 用户已观看的电影集合\n",
    "        watched_item_list = user_item[user_id]\n",
    "\n",
    "        # item_i:项目号， ri:对应的评分（兴趣度）\n",
    "        for item_i, ri in watched_item_list.items():\n",
    "\n",
    "            # 如果该item不在相似度矩阵中，则推荐空序列\n",
    "            if item_i not in W:\n",
    "                print('unvalid item_id(item_id not in W): ', item_i)\n",
    "                continue\n",
    "\n",
    "            # 在遍历电影i与相似矩阵中前K个电影j的相似度\n",
    "            for item_j, wj in sorted(W[item_i].items(), key=operator.itemgetter(1), reverse=True)[0:K]:\n",
    "\n",
    "                # 如果电影j在该用户的电影观看列表中则跳过\n",
    "                if item_j in watched_item_list:\n",
    "                    continue\n",
    "\n",
    "                rank[user_id].setdefault(item_j, 0)\n",
    "                # 电影推荐度 = 用户评分（或者兴趣度）* 电影相似度\n",
    "                # 此例中用户观看过电影则兴趣度为1\n",
    "                rank[user_id][item_j] += ri * wj\n",
    "\n",
    "    rank_sorted = {}\n",
    "    rank_sorted[user_id] = sorted(rank[user_id].items(), key=operator.itemgetter(1), reverse=True)[0:R]\n",
    "\n",
    "    return rank_sorted"
   ]
  },
  {
   "cell_type": "markdown",
   "metadata": {},
   "source": [
    "### 电影推荐"
   ]
  },
  {
   "cell_type": "code",
   "execution_count": 76,
   "metadata": {},
   "outputs": [
    {
     "name": "stdout",
     "output_type": "stream",
     "text": [
      "Please input your user ID:7\n",
      "\n",
      "Recommended movies：\n",
      "\n",
      "1. Raiders of the Lost Ark\n",
      "--------------------------------------------------\n",
      "2. Indiana Jones and the Last Crusade\n",
      "--------------------------------------------------\n",
      "3. E.T. the Extra-Terrestrial\n",
      "--------------------------------------------------\n",
      "4. True Lies\n",
      "--------------------------------------------------\n",
      "5. Jurassic Park\n",
      "--------------------------------------------------\n"
     ]
    }
   ],
   "source": [
    "# 输入用户ID\n",
    "user_id = input('Please input your user ID:')\n",
    "\n",
    "recom_list = recommendation(user_item, user_id, item_sim, hot_rank, sim_num, reco_num)\n",
    "\n",
    "# 输出推荐电影\n",
    "print('\\nRecommended movies：\\n')\n",
    "\n",
    "ranknum = 0\n",
    "for idx, rate  in recom_list.values()[0]:\n",
    "    ranknum += 1\n",
    "    print(\"%d. %s\" %(ranknum, movies[movies['movieId'] == idx]['title'].values[0]))\n",
    "    print '-'*50\n"
   ]
  }
 ],
 "metadata": {
  "kernelspec": {
   "display_name": "Python 2",
   "language": "python",
   "name": "python2"
  },
  "language_info": {
   "codemirror_mode": {
    "name": "ipython",
    "version": 2
   },
   "file_extension": ".py",
   "mimetype": "text/x-python",
   "name": "python",
   "nbconvert_exporter": "python",
   "pygments_lexer": "ipython2",
   "version": "2.7.5"
  }
 },
 "nbformat": 4,
 "nbformat_minor": 2
}
