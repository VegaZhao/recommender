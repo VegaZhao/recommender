{
 "cells": [
  {
   "cell_type": "markdown",
   "metadata": {},
   "source": [
    "## 基于电影简介相似度的推荐算法"
   ]
  },
  {
   "cell_type": "markdown",
   "metadata": {},
   "source": [
    "将电影的简介转成向量，然后计算向量间的相似度，从而找出相似电影进行推荐。"
   ]
  },
  {
   "cell_type": "code",
   "execution_count": 1,
   "metadata": {},
   "outputs": [],
   "source": [
    "# coding=utf-8\n",
    "import sys\n",
    "import pandas as pd\n",
    "import numpy as np\n",
    "import operator\n",
    "import time\n",
    "from sklearn.metrics.pairwise import cosine_similarity\n",
    "from sklearn.feature_extraction.text import TfidfVectorizer"
   ]
  },
  {
   "cell_type": "markdown",
   "metadata": {},
   "source": [
    "### 读取数据"
   ]
  },
  {
   "cell_type": "code",
   "execution_count": 6,
   "metadata": {},
   "outputs": [],
   "source": [
    "movies = pd.read_csv('/home/zwj/Desktop/recommend/movielens/moive_database/v1/v1_movie_info.csv',\\\n",
    "                        usecols=[0, 1, 3], header=0, names=['movieId', 'title', 'overview'])\n",
    "\n",
    "df_train = pd.read_csv('/home/zwj/Desktop/recommend/movielens/moive_database/v1/v1_train.csv', \\\n",
    "                       usecols=[0, 1, 2])  # userId, movieId, rating\n"
   ]
  },
  {
   "cell_type": "markdown",
   "metadata": {},
   "source": [
    "### 设置参数"
   ]
  },
  {
   "cell_type": "code",
   "execution_count": 3,
   "metadata": {},
   "outputs": [],
   "source": [
    "# 推荐电影数\n",
    "reco_num = 10\n",
    "# 加权求和计算的相似项个数\n",
    "sim_num = 10"
   ]
  },
  {
   "cell_type": "markdown",
   "metadata": {},
   "source": [
    "### 功能函数"
   ]
  },
  {
   "cell_type": "markdown",
   "metadata": {},
   "source": [
    "获取全局热门电影"
   ]
  },
  {
   "cell_type": "code",
   "execution_count": 4,
   "metadata": {},
   "outputs": [
    {
     "data": {
      "text/plain": [
       "{1: 0.94,\n",
       " 50: 1.0,\n",
       " 56: 0.91,\n",
       " 100: 0.97,\n",
       " 174: 0.92,\n",
       " 181: 0.99,\n",
       " 258: 0.98,\n",
       " 288: 0.95,\n",
       " 294: 0.96,\n",
       " 300: 0.9299999999999999}"
      ]
     },
     "execution_count": 4,
     "metadata": {},
     "output_type": "execute_result"
    }
   ],
   "source": [
    "def getHotItem(df_train, N=5):\n",
    "    \"\"\"\n",
    "    param:\n",
    "        df_train: 训练数据集 type:dataframe\n",
    "        N: 推荐的电影数\n",
    "    return: \n",
    "        hot_rank: 该用户的推荐热门电影列表 type:dict, key:user, value:dict, key:item, value:sim\n",
    "    \"\"\"\n",
    "\n",
    "    item_count = df_train.groupby('movieId')['rating'].count().sort_values(ascending=False)\n",
    "\n",
    "    hot_rank = {}\n",
    "\n",
    "    r = 0\n",
    "    for item_id in item_count[0:N].index:\n",
    "        hot_rank[item_id] = 1 - 0.01 * r\n",
    "        r += 1\n",
    "    return hot_rank\n",
    "\n",
    "hot_rank = getHotItem(df_train, reco_num)\n",
    "\n",
    "hot_rank"
   ]
  },
  {
   "cell_type": "markdown",
   "metadata": {},
   "source": [
    "生成用户-电影排列表"
   ]
  },
  {
   "cell_type": "code",
   "execution_count": 5,
   "metadata": {},
   "outputs": [
    {
     "data": {
      "text/plain": [
       "{264.0: 2.0,\n",
       " 270.0: 5.0,\n",
       " 271.0: 2.0,\n",
       " 288.0: 4.0,\n",
       " 302.0: 5.0,\n",
       " 313.0: 5.0,\n",
       " 324.0: 4.0,\n",
       " 327.0: 4.0,\n",
       " 340.0: 3.0,\n",
       " 343.0: 2.0,\n",
       " 347.0: 3.0,\n",
       " 690.0: 3.0,\n",
       " 751.0: 2.0,\n",
       " 880.0: 3.0}"
      ]
     },
     "execution_count": 5,
     "metadata": {},
     "output_type": "execute_result"
    }
   ],
   "source": [
    "def userItemDict(data):\n",
    "    \"\"\"\n",
    "    param:\n",
    "        data: lsit [user, item, rating]\n",
    "    return:\n",
    "        user_item: 用户-电影排列表 type:dict, key:user, value:dict, key:item, value:rate\n",
    "    \"\"\"\n",
    "    user_item = {}\n",
    "    for user, item, rate in data:\n",
    "        if user not in user_item:\n",
    "            user_item[user] = {}\n",
    "        user_item[user].update({item: rate})\n",
    "    return user_item\n",
    "\n",
    "# 生成user-tiem排列表\n",
    "user_item = userItemDict(df_train.values)\n",
    "\n",
    "user_item[105]"
   ]
  },
  {
   "cell_type": "markdown",
   "metadata": {},
   "source": [
    "计算电影相似度"
   ]
  },
  {
   "cell_type": "code",
   "execution_count": 13,
   "metadata": {},
   "outputs": [],
   "source": [
    "def overviewSimReco(movie_id, df_train, movie_info, n):\n",
    "    \"\"\"\n",
    "    param:\n",
    "        movie_id: 电影ID号\n",
    "        n: 前n部相似电影\n",
    "    return: \n",
    "        reco_list:  推荐电影列表 type:dict key:movieid value:sim_score\n",
    "    \"\"\"\n",
    "    # 加载电影信息\n",
    "    train_movie_set = df_train['movieId'].unique()\n",
    "\n",
    "    # 将电影名称设置为dataframe索引\n",
    "    movie_metadata = movie_info[movie_info['movieId'].isin(train_movie_set)].set_index('movieId')\n",
    "\n",
    "    # 创建tf-idf矩阵，用于比较电影简介的相似度\n",
    "    # stop_words='english'使用英语内建的停用词列表\n",
    "    tfidf = TfidfVectorizer(stop_words='english')\n",
    "    tfidf_matrix = tfidf.fit_transform(movie_metadata['overview'].dropna())\n",
    "\n",
    "    # 返回该电影在数据集中的位置索引\n",
    "    index = movie_metadata.reset_index(drop=True)[movie_metadata.index==movie_id].index[0]\n",
    "\n",
    "    # 存储该电影简介与其他电影的相似度\n",
    "    sim_movie = []\n",
    "\n",
    "    # 遍历所有的电影\n",
    "    for idx in range(np.shape(tfidf_matrix)[0]):\n",
    "\n",
    "        # 如果是剔除同一部电影，相似度置为0\n",
    "        if idx == index:\n",
    "            sim_movie.append(0.0)\n",
    "        else:\n",
    "            tmp = np.concatenate((tfidf_matrix[index].toarray(), tfidf_matrix[idx].toarray()), axis=0)\n",
    "            similarity = cosine_similarity(tmp)[0, 1]\n",
    "            sim_movie.append(similarity)\n",
    "\n",
    "\n",
    "    # 获取前n部最相似电影的索引和相似度\n",
    "    similar_movies_index = np.argsort(sim_movie)[::-1][:n]\n",
    "    similar_movies_score = np.sort(sim_movie)[::-1][:n]\n",
    "\n",
    "    # 获得相似电影的名称\n",
    "    similar_movies_id = movie_metadata.iloc[similar_movies_index].index\n",
    "\n",
    "    reco_list = {}\n",
    "    for id, score in zip(similar_movies_id, similar_movies_score):\n",
    "        reco_list[id] = score\n",
    "\n",
    "    return reco_list"
   ]
  },
  {
   "cell_type": "markdown",
   "metadata": {},
   "source": [
    "推荐系统"
   ]
  },
  {
   "cell_type": "code",
   "execution_count": 14,
   "metadata": {},
   "outputs": [],
   "source": [
    "def recommendation(df_train, movie_info, user_item, user_id, hot_rank, K, R):\n",
    "    \"\"\"\n",
    "    param：\n",
    "        user_item: 训练集中user-item字典 {user1 : {item1 : rate1, item2 : rate2}, ...}}\n",
    "        user_id：推荐的用户id\n",
    "        hot_rank: 热门电影列表\n",
    "        K：前K个最相似电影\n",
    "        R：推荐列表中电影个数\n",
    "    return：\n",
    "        rank_sorted：该用户的推荐电影列表 type:dict, key:user, value:dict, key:item, value:score\n",
    "    \"\"\"\n",
    "\n",
    "    # 存储用户推荐电影\n",
    "    rank = {}\n",
    "    # 开辟用户空子字典 ('rank: ', {user_id: {}})\n",
    "    rank.setdefault(user_id, {})\n",
    "\n",
    "    # 如果该用户不在训练集中，则推荐热门电影\n",
    "    if user_id not in user_item:\n",
    "        print('user {} not in trainset, give hot rank list'.format(user_id))\n",
    "        rank[user_id] = hot_rank\n",
    "    else:\n",
    "        # 用户已观看的电影集合\n",
    "        watched_item_list = user_item[user_id]\n",
    "\n",
    "        # item_i:项目号， ri:对应的评分（兴趣度）\n",
    "        for item_i, ri in watched_item_list.items():\n",
    "            simMovie = overviewSimReco(item_i, df_train, movie_info, K)\n",
    "            for item_j, simj in simMovie.items():\n",
    "                if item_j in watched_item_list:\n",
    "                    continue\n",
    "\n",
    "                rank[user_id].setdefault(item_j, 0)\n",
    "                # 电影推荐度 = 用户评分（或者兴趣度）* 电影相似度\n",
    "                # 此例中用户观看过电影则兴趣度为1\n",
    "                rank[user_id][item_j] += ri * simj\n",
    "\n",
    "    rank_sorted = {}\n",
    "    rank_sorted[user_id] = sorted(rank[user_id].items(), key=operator.itemgetter(1), reverse=True)[0:R]\n",
    "\n",
    "    return rank_sorted"
   ]
  },
  {
   "cell_type": "markdown",
   "metadata": {},
   "source": [
    "### 电影推荐"
   ]
  },
  {
   "cell_type": "code",
   "execution_count": 15,
   "metadata": {},
   "outputs": [
    {
     "name": "stdout",
     "output_type": "stream",
     "text": [
      "Please input your user ID:7\n",
      "\n",
      "Recommended movies：\n",
      "\n",
      "1. Young Frankenstein\n",
      "--------------------------------------------------\n",
      "2. Fluke\n",
      "--------------------------------------------------\n",
      "3. Jason's Lyric\n",
      "--------------------------------------------------\n",
      "4. Deceiver\n",
      "--------------------------------------------------\n",
      "5. Little Odessa\n",
      "--------------------------------------------------\n",
      "6. Basic Instinct\n",
      "--------------------------------------------------\n",
      "7. Faces\n",
      "--------------------------------------------------\n",
      "8. Foreign Student\n",
      "--------------------------------------------------\n",
      "9. Star Trek V: The Final Frontier\n",
      "--------------------------------------------------\n",
      "10. Mulholland Falls\n",
      "--------------------------------------------------\n"
     ]
    }
   ],
   "source": [
    "# 输入用户ID\n",
    "user_id = input('Please input your user ID:')\n",
    "\n",
    "recom_list = recommendation(df_train, movies, user_item, user_id, hot_rank, sim_num, reco_num)\n",
    "# 输出推荐电影\n",
    "print('\\nRecommended movies：\\n')\n",
    "\n",
    "ranknum = 0\n",
    "for idx, rate  in recom_list.values()[0]:\n",
    "    ranknum += 1\n",
    "    print(\"%d. %s\" %(ranknum, movies[movies['movieId'] == idx]['title'].values[0]))\n",
    "    print '-'*50\n"
   ]
  },
  {
   "cell_type": "code",
   "execution_count": null,
   "metadata": {},
   "outputs": [],
   "source": []
  }
 ],
 "metadata": {
  "kernelspec": {
   "display_name": "Python 2",
   "language": "python",
   "name": "python2"
  },
  "language_info": {
   "codemirror_mode": {
    "name": "ipython",
    "version": 2
   },
   "file_extension": ".py",
   "mimetype": "text/x-python",
   "name": "python",
   "nbconvert_exporter": "python",
   "pygments_lexer": "ipython2",
   "version": "2.7.5"
  }
 },
 "nbformat": 4,
 "nbformat_minor": 2
}
