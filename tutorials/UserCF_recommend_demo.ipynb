{
 "cells": [
  {
   "cell_type": "markdown",
   "metadata": {},
   "source": [
    "## 基于用户的协同过滤算法UserCF"
   ]
  },
  {
   "cell_type": "markdown",
   "metadata": {},
   "source": [
    "统计用户行为数据，计算用户之间的相似度，从而推荐相似用户观看的电影"
   ]
  },
  {
   "cell_type": "code",
   "execution_count": 1,
   "metadata": {},
   "outputs": [],
   "source": [
    "# coding:utf-8\n",
    "import numpy as np\n",
    "import pandas as pd\n",
    "import random\n",
    "import math\n",
    "import operator\n",
    "import time\n",
    "from sklearn.utils import shuffle"
   ]
  },
  {
   "cell_type": "markdown",
   "metadata": {},
   "source": [
    "### 读取数据"
   ]
  },
  {
   "cell_type": "code",
   "execution_count": 3,
   "metadata": {},
   "outputs": [],
   "source": [
    "movies = pd.read_csv('/home/zwj/Desktop/recommend/movielens/moive_database/v1/v1_movie_info.csv',\\\n",
    "                        usecols=[0, 1, 6], header=0, names=['movieId', 'title', 'genres'])\n",
    "\n",
    "df_train = pd.read_csv('/home/zwj/Desktop/recommend/movielens/moive_database/v1/v1_train.csv', \\\n",
    "                       usecols=[0, 1, 2])  # userId, movieId, rating"
   ]
  },
  {
   "cell_type": "markdown",
   "metadata": {},
   "source": [
    "### 设置参数"
   ]
  },
  {
   "cell_type": "code",
   "execution_count": 21,
   "metadata": {},
   "outputs": [],
   "source": [
    "# 推荐电影数\n",
    "reco_num = 10\n",
    "# 加权求和计算的相似项个数\n",
    "sim_num = 10"
   ]
  },
  {
   "cell_type": "markdown",
   "metadata": {},
   "source": [
    "### 功能函数"
   ]
  },
  {
   "cell_type": "markdown",
   "metadata": {},
   "source": [
    "获取全局热门电影"
   ]
  },
  {
   "cell_type": "code",
   "execution_count": 5,
   "metadata": {},
   "outputs": [
    {
     "data": {
      "text/plain": [
       "{50: 1.0, 100: 0.97, 181: 0.99, 258: 0.98, 294: 0.96}"
      ]
     },
     "execution_count": 5,
     "metadata": {},
     "output_type": "execute_result"
    }
   ],
   "source": [
    "def getHotItem(df_train, N=5):\n",
    "    \"\"\"\n",
    "    param:\n",
    "        df_train: 训练数据集 type:dataframe\n",
    "        N: 推荐的电影数\n",
    "    return: \n",
    "        hot_rank: 该用户的推荐热门电影列表 type:dict, key:user, value:dict, key:item, value:sim\n",
    "    \"\"\"\n",
    "\n",
    "    item_count = df_train.groupby('movieId')['rating'].count().sort_values(ascending=False)\n",
    "\n",
    "    hot_rank = {}\n",
    "\n",
    "    r = 0\n",
    "    for item_id in item_count[0:N].index:\n",
    "        hot_rank[item_id] = 1 - 0.01 * r\n",
    "        r += 1\n",
    "    return hot_rank\n",
    "\n",
    "hot_rank = getHotItem(df_train, reco_num)\n",
    "\n",
    "hot_rank"
   ]
  },
  {
   "cell_type": "markdown",
   "metadata": {},
   "source": [
    "生成用户-电影排列表"
   ]
  },
  {
   "cell_type": "code",
   "execution_count": 13,
   "metadata": {},
   "outputs": [
    {
     "data": {
      "text/plain": [
       "{264.0: 2.0,\n",
       " 270.0: 5.0,\n",
       " 271.0: 2.0,\n",
       " 288.0: 4.0,\n",
       " 302.0: 5.0,\n",
       " 313.0: 5.0,\n",
       " 324.0: 4.0,\n",
       " 327.0: 4.0,\n",
       " 340.0: 3.0,\n",
       " 343.0: 2.0,\n",
       " 347.0: 3.0,\n",
       " 690.0: 3.0,\n",
       " 751.0: 2.0,\n",
       " 880.0: 3.0}"
      ]
     },
     "execution_count": 13,
     "metadata": {},
     "output_type": "execute_result"
    }
   ],
   "source": [
    "def userItemDict(data):\n",
    "    \"\"\"\n",
    "    param:\n",
    "        data: lsit [user, item, rating]\n",
    "    return:\n",
    "        user_item: 用户-电影排列表 type:dict, key:user, value:dict, key:item, value:rate\n",
    "    \"\"\"\n",
    "    user_item = {}\n",
    "    for user, item, rate in data:\n",
    "        if user not in user_item:\n",
    "            user_item[user] = {}\n",
    "        user_item[user].update({item: rate})\n",
    "    return user_item\n",
    "\n",
    "# 生成user-tiem排列表\n",
    "user_item = userItemDict(df_train.values)\n",
    "\n",
    "user_item[105]"
   ]
  },
  {
   "cell_type": "markdown",
   "metadata": {},
   "source": [
    "生成电影用户倒排表"
   ]
  },
  {
   "cell_type": "code",
   "execution_count": 14,
   "metadata": {},
   "outputs": [
    {
     "data": {
      "text/plain": [
       "[42.0, 280.0, 416.0, 463.0, 533.0, 606.0, 648.0, 881.0]"
      ]
     },
     "execution_count": 14,
     "metadata": {},
     "output_type": "execute_result"
    }
   ],
   "source": [
    "def itemUserDict(data):\n",
    "    \"\"\"\n",
    "    param:\n",
    "        data: lsit [user, item, rating]\n",
    "    return:\n",
    "        item_user: 电影-用户倒排表 type:dict, key:item, value:list, [user1, user2, ...]\n",
    "    \"\"\"\n",
    "\n",
    "    item_user = {}\n",
    "    for user, item, rate in data:\n",
    "        if item not in item_user:\n",
    "            item_user[item] = []\n",
    "        item_user[item].append(user)\n",
    "    return item_user\n",
    "\n",
    "# 生成item-user排列表\n",
    "item_user = itemUserDict(df_train.values)\n",
    "\n",
    "item_user[103]"
   ]
  },
  {
   "cell_type": "markdown",
   "metadata": {},
   "source": [
    "计算用户相似度"
   ]
  },
  {
   "cell_type": "code",
   "execution_count": 16,
   "metadata": {},
   "outputs": [
    {
     "data": {
      "text/plain": [
       "[(820.0, 0.1159516986763142),\n",
       " (898.0, 0.11531419341733552),\n",
       " (408.0, 0.10811016351745759),\n",
       " (808.0, 0.10771981569969562),\n",
       " (414.0, 0.10191327262464009),\n",
       " (775.0, 0.09990418853272287)]"
      ]
     },
     "execution_count": 16,
     "metadata": {},
     "output_type": "execute_result"
    }
   ],
   "source": [
    "def userSimilarity(item_user):\n",
    "    \"\"\"\n",
    "    param:\n",
    "        item_user: 电影-用户倒排表 type:dict, key:item, value:list, [user1, user2, ...]\n",
    "    return: \n",
    "        W：用户相似度矩阵，type:dict, key:user_u, value:dict, key:user_v, value:similarity\n",
    "    \"\"\"\n",
    "\n",
    "    # C[u][v]存储观看用户u和v共同看的电影数\n",
    "    C = {}\n",
    "    # 统计用户的观看电影数 N[u]记录用户u观看的电影数\n",
    "    N = {}\n",
    "    for itemid, users in item_user.items():\n",
    "        for user_u in users:\n",
    "            N.setdefault(user_u, 0)\n",
    "            N[user_u] += 1\n",
    "            for user_v in users:\n",
    "                if user_u == user_v:\n",
    "                    continue\n",
    "                C.setdefault(user_u, {})\n",
    "                C[user_u].setdefault(user_v, 0)\n",
    "                # 统计用户u和用户v观看的电影数\n",
    "                # 1.传统方法\n",
    "                # C[user_u][user_v] += 1\n",
    "                # 2.优化方法，削弱了热门电影的贡献度，电影观看的人数越多其影响越弱\n",
    "                C[user_u][user_v] += 1 / math.log(1 + len(users) * 1.0)\n",
    "\n",
    "    # 用户相似矩阵\n",
    "    W = {}\n",
    "    # C={user1, {user2: num, user3: num}}\n",
    "    for user_u, related_users in C.items():\n",
    "        for user_v, cuv in related_users.items():\n",
    "            W.setdefault(user_u, {})\n",
    "            W[user_u].setdefault(user_v, 0)\n",
    "            # 计算相似度\n",
    "            W[user_u][user_v] = cuv / math.sqrt(N[user_u] * N[user_v])\n",
    "\n",
    "    return W\n",
    "\n",
    "# 生成电影相似度字典\n",
    "user_sim = userSimilarity(item_user)\n",
    "\n",
    "sorted(user_sim[105].items(), key=operator.itemgetter(1), reverse=True)[0:6]"
   ]
  },
  {
   "cell_type": "markdown",
   "metadata": {},
   "source": [
    "推荐系统"
   ]
  },
  {
   "cell_type": "code",
   "execution_count": 17,
   "metadata": {},
   "outputs": [],
   "source": [
    "def recommendation(user_item, user_id, W, hot_rank, K, R):\n",
    "    \"\"\"\n",
    "    param:\n",
    "        user_item: 用户-电影排列表 type:dict, key:user, value:dict, key:item, value:rate\n",
    "        user_id: 推荐的用户id\n",
    "        W: 用户相似度矩阵，type:dict, key:user_u, value:dict, key:user_v, value:similarity\n",
    "        hot_rank: 热门电影列表, type:dict, key:user, value:dict, key:item, value:sim\n",
    "        K: 前K个最相似用户\n",
    "        R: 推荐列表中电影个数\n",
    "    return: \n",
    "        rank_sorted：该用户的推荐电影列表 type:dict, key:user, value:dict, key:item, value:sim\n",
    "    \"\"\"\n",
    "\n",
    "    # 存储用户推荐电影\n",
    "    rank = {}\n",
    "    # 开辟用户空子字典 ('rank: ', {user_id: {}})\n",
    "    rank.setdefault(user_id, {})\n",
    "\n",
    "    # 如果该用户不在训练集中，则推荐热门电影\n",
    "    if user_id not in user_item:\n",
    "        print('unvalid user_id(user_id not in user_item): ', user_id)\n",
    "        rank[user_id] = hot_rank\n",
    "    # 如果该用户不在相似度矩阵中，则推荐热门电影\n",
    "    if user_id not in W:\n",
    "        print('unvalid user_id(user_id not in W): ', user_id)\n",
    "        rank[user_id] = hot_rank\n",
    "    else:\n",
    "        # 用户已观看的电影集合\n",
    "        watched_item_list = user_item[user_id]\n",
    "\n",
    "        # 遍历相似矩阵中该用户前K个最相似用户\n",
    "        for v, wuv in sorted(W[user_id].items(), key=operator.itemgetter(1), reverse=True)[0:K]:\n",
    "            # 将相似用户v中观看过的电影推荐给该用户\n",
    "            for item_i, ri in user_item[v].items():\n",
    "                # 如果电影是该用户观看过的电影，则跳过\n",
    "                if item_i in watched_item_list:\n",
    "                    continue\n",
    "                rank[user_id].setdefault(item_i, 0)\n",
    "                # 电影推荐度 = 用户相似度 * 用户对电影兴趣度（或者评分）\n",
    "                # 此例中用户设置观看过电影的兴趣度为1\n",
    "                rank[user_id][item_i] += wuv * ri\n",
    "\n",
    "    rank_sorted = {}\n",
    "    rank_sorted[user_id] = sorted(rank[user_id].items(), key=operator.itemgetter(1), reverse=True)[0:R]\n",
    "\n",
    "    return rank_sorted"
   ]
  },
  {
   "cell_type": "markdown",
   "metadata": {},
   "source": [
    "### 电影推荐"
   ]
  },
  {
   "cell_type": "code",
   "execution_count": 23,
   "metadata": {},
   "outputs": [
    {
     "name": "stdout",
     "output_type": "stream",
     "text": [
      "Please input your user ID:105\n",
      "\n",
      "Recommended movies：\n",
      "\n",
      "1. Air Force One\n",
      "--------------------------------------------------\n",
      "2. Contact\n",
      "--------------------------------------------------\n",
      "3. Apt Pupil\n",
      "--------------------------------------------------\n",
      "4. Good Will Hunting\n",
      "--------------------------------------------------\n",
      "5. Everyone Says I Love You\n",
      "--------------------------------------------------\n",
      "6. Liar Liar\n",
      "--------------------------------------------------\n",
      "7. In & Out\n",
      "--------------------------------------------------\n",
      "8. Conspiracy Theory\n",
      "--------------------------------------------------\n",
      "9. Amistad\n",
      "--------------------------------------------------\n",
      "10. Spawn\n",
      "--------------------------------------------------\n"
     ]
    }
   ],
   "source": [
    "# 输入用户ID\n",
    "user_id = input('Please input your user ID:')\n",
    "\n",
    "recom_list = recommendation(user_item, user_id, user_sim, hot_rank, sim_num, reco_num)\n",
    "\n",
    "# 输出推荐电影\n",
    "print('\\nRecommended movies：\\n')\n",
    "\n",
    "ranknum = 0\n",
    "for idx, rate  in recom_list.values()[0]:\n",
    "    ranknum += 1\n",
    "    print(\"%d. %s\" %(ranknum, movies[movies['movieId'] == idx]['title'].values[0]))\n",
    "    print '-'*50\n"
   ]
  },
  {
   "cell_type": "code",
   "execution_count": null,
   "metadata": {},
   "outputs": [],
   "source": []
  }
 ],
 "metadata": {
  "kernelspec": {
   "display_name": "Python 2",
   "language": "python",
   "name": "python2"
  },
  "language_info": {
   "codemirror_mode": {
    "name": "ipython",
    "version": 2
   },
   "file_extension": ".py",
   "mimetype": "text/x-python",
   "name": "python",
   "nbconvert_exporter": "python",
   "pygments_lexer": "ipython2",
   "version": "2.7.5"
  }
 },
 "nbformat": 4,
 "nbformat_minor": 2
}
