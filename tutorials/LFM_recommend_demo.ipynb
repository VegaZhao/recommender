{
 "cells": [
  {
   "cell_type": "markdown",
   "metadata": {},
   "source": [
    "## 隐语义模型推荐算法LFM"
   ]
  },
  {
   "cell_type": "markdown",
   "metadata": {},
   "source": [
    "利用用户行为数据，训练隐语义模型，分解出用户因子矩阵和电影因子矩阵，通过矩阵相乘获得用户电影得分，根据得分高低进行排序推荐。"
   ]
  },
  {
   "cell_type": "code",
   "execution_count": 1,
   "metadata": {},
   "outputs": [],
   "source": [
    "# coding:utf-8\n",
    "import pandas as pd\n",
    "import numpy as np\n",
    "import os\n",
    "from surprise import Reader, Dataset\n",
    "from surprise import NormalPredictor, BaselineOnly\n",
    "from surprise import KNNBasic, KNNWithMeans, KNNWithZScore, KNNBaseline\n",
    "from surprise import SVD, SVDpp, NMF, model_selection\n",
    "from sklearn.metrics import mean_squared_error\n",
    "from sklearn.utils import shuffle\n",
    "import math\n",
    "import time\n",
    "import operator"
   ]
  },
  {
   "cell_type": "markdown",
   "metadata": {},
   "source": [
    "### 读取数据"
   ]
  },
  {
   "cell_type": "code",
   "execution_count": 2,
   "metadata": {},
   "outputs": [],
   "source": [
    "movies = pd.read_csv('/home/zwj/Desktop/recommend/movielens/moive_database/v1/v1_movie_info.csv',\\\n",
    "                        usecols=[0, 1, 6], header=0, names=['movieId', 'title', 'genres'])\n",
    "\n",
    "df_train = pd.read_csv('/home/zwj/Desktop/recommend/movielens/moive_database/v1/v1_train.csv', \\\n",
    "                       usecols=[0, 1, 2])  # userId, movieId, rating"
   ]
  },
  {
   "cell_type": "markdown",
   "metadata": {},
   "source": [
    "### 设置参数"
   ]
  },
  {
   "cell_type": "code",
   "execution_count": 3,
   "metadata": {},
   "outputs": [],
   "source": [
    "# 推荐电影数\n",
    "reco_num = 10\n",
    "# 评分转成0/1分类的阈值\n",
    "thres_rate = 4.0"
   ]
  },
  {
   "cell_type": "markdown",
   "metadata": {},
   "source": [
    "### 功能函数"
   ]
  },
  {
   "cell_type": "markdown",
   "metadata": {},
   "source": [
    "获取全局热门电影"
   ]
  },
  {
   "cell_type": "code",
   "execution_count": 4,
   "metadata": {},
   "outputs": [
    {
     "data": {
      "text/plain": [
       "{1: 0.94,\n",
       " 50: 1.0,\n",
       " 56: 0.91,\n",
       " 100: 0.97,\n",
       " 174: 0.92,\n",
       " 181: 0.99,\n",
       " 258: 0.98,\n",
       " 288: 0.95,\n",
       " 294: 0.96,\n",
       " 300: 0.9299999999999999}"
      ]
     },
     "execution_count": 4,
     "metadata": {},
     "output_type": "execute_result"
    }
   ],
   "source": [
    "def getHotItem(df_train, N=5):\n",
    "    \"\"\"\n",
    "    param:\n",
    "        df_train: 训练数据集 type:dataframe\n",
    "        N: 推荐的电影数\n",
    "    return: \n",
    "        hot_rank: 该用户的推荐热门电影列表 type:dict, key:user, value:dict, key:item, value:sim\n",
    "    \"\"\"\n",
    "\n",
    "    item_count = df_train.groupby('movieId')['rating'].count().sort_values(ascending=False)\n",
    "\n",
    "    hot_rank = {}\n",
    "\n",
    "    r = 0\n",
    "    for item_id in item_count[0:N].index:\n",
    "        hot_rank[item_id] = 1 - 0.01 * r\n",
    "        r += 1\n",
    "    return hot_rank\n",
    "\n",
    "hot_rank = getHotItem(df_train, reco_num)\n",
    "\n",
    "hot_rank"
   ]
  },
  {
   "cell_type": "markdown",
   "metadata": {},
   "source": [
    "生成用户-电影排列表"
   ]
  },
  {
   "cell_type": "code",
   "execution_count": 5,
   "metadata": {},
   "outputs": [
    {
     "data": {
      "text/plain": [
       "{264.0: 2.0,\n",
       " 270.0: 5.0,\n",
       " 271.0: 2.0,\n",
       " 288.0: 4.0,\n",
       " 302.0: 5.0,\n",
       " 313.0: 5.0,\n",
       " 324.0: 4.0,\n",
       " 327.0: 4.0,\n",
       " 340.0: 3.0,\n",
       " 343.0: 2.0,\n",
       " 347.0: 3.0,\n",
       " 690.0: 3.0,\n",
       " 751.0: 2.0,\n",
       " 880.0: 3.0}"
      ]
     },
     "execution_count": 5,
     "metadata": {},
     "output_type": "execute_result"
    }
   ],
   "source": [
    "def userItemDict(data):\n",
    "    \"\"\"\n",
    "    param:\n",
    "        data: lsit [user, item, rating]\n",
    "    return:\n",
    "        user_item: 用户-电影排列表 type:dict, key:user, value:dict, key:item, value:rate\n",
    "    \"\"\"\n",
    "    user_item = {}\n",
    "    for user, item, rate in data:\n",
    "        if user not in user_item:\n",
    "            user_item[user] = {}\n",
    "        user_item[user].update({item: rate})\n",
    "    return user_item\n",
    "\n",
    "# 生成user-tiem排列表\n",
    "user_item = userItemDict(df_train.values)\n",
    "\n",
    "user_item[105]"
   ]
  },
  {
   "cell_type": "markdown",
   "metadata": {},
   "source": [
    "数据采样，调整正负样本比例1:1"
   ]
  },
  {
   "cell_type": "code",
   "execution_count": 10,
   "metadata": {},
   "outputs": [],
   "source": [
    "def sampleData(data, thres_rate):\n",
    "    \"\"\"\n",
    "    param:\n",
    "        data: 二维矩阵 [item, user, rate]\n",
    "        thres_rate: 评分转成0/1分类的阈值\n",
    "    return:\n",
    "        train_data 调整正负样本数之后的训练数据 type:list [(user, item, class)]\n",
    "    \"\"\"\n",
    "    # 定义数据集\n",
    "    train_data = []\n",
    "    # 正样本字典 key:user value:tuple (item, rate)\n",
    "    pos_dict = {}\n",
    "    # 负样本字典 key:user value:tuple (item, rate)\n",
    "    neg_dict = {}\n",
    "\n",
    "    for user, item, rate in data:\n",
    "        if user not in pos_dict:\n",
    "            pos_dict[user] = []\n",
    "        if user not in neg_dict:\n",
    "            neg_dict[user] = []\n",
    "        if rate >= thres_rate:\n",
    "            pos_dict[user].append((item, rate))\n",
    "        else:\n",
    "            neg_dict[user].append((item, rate))\n",
    "    for user in pos_dict:\n",
    "        # 获取每个用户的正负样本数目，去原本正样本或者负样本的最小值，样本多余的截取\n",
    "        data_num = min(len(pos_dict.get(user, [])), len(neg_dict.get(user, [])))\n",
    "        if data_num > 0:\n",
    "            # 按分值从大到小排序，保留data_num个样本数\n",
    "            sorted_pos_list = sorted(pos_dict[user], key=lambda element: element[1], reverse=True)[:data_num]\n",
    "            train_data += [(user, item, 1) for item, rate in sorted_pos_list]\n",
    "            sorted_neg_list = sorted(neg_dict[user], key=lambda element: element[1], reverse=True)[:data_num]\n",
    "            train_data += [(user, item, 0) for item, rate in sorted_neg_list]\n",
    "\n",
    "    return train_data"
   ]
  },
  {
   "cell_type": "markdown",
   "metadata": {},
   "source": [
    "训练模型"
   ]
  },
  {
   "cell_type": "code",
   "execution_count": 11,
   "metadata": {},
   "outputs": [],
   "source": [
    "def trainModel(df_train):\n",
    "    \"\"\"\n",
    "    param：\n",
    "        df_train: 训练数据dataframe格式 包含字段 ('userId', 'movieId', 'rating')\n",
    "    return:\n",
    "        algo: 训练好的模型\n",
    "    \"\"\"\n",
    "    # 读取数据\n",
    "    reader = Reader()\n",
    "    algo = SVD()\n",
    "    data = Dataset.load_from_df(df_train[['userId', 'movieId', 'rating']], reader)\n",
    "    ###################### train ######################\n",
    "    # 训练模型\n",
    "    # 方式 1: 交叉验证\n",
    "    # (算法, 数据, loss计算方式， CV=交叉验证次数\n",
    "    model_selection.cross_validate(algo, data, measures=['RMSE', 'MAE'], cv=3, verbose=True)\n",
    "\n",
    "    # 方式 2: 没有交叉验证\n",
    "    # trainset = data.build_full_trainset()\n",
    "    # algo.fit(trainset)\n",
    "    ###################################################\n",
    "\n",
    "    # 返回训练好的模型\n",
    "    return algo"
   ]
  },
  {
   "cell_type": "code",
   "execution_count": 12,
   "metadata": {},
   "outputs": [
    {
     "name": "stdout",
     "output_type": "stream",
     "text": [
      "Evaluating RMSE, MAE of algorithm SVD on 3 split(s).\n",
      "\n",
      "                  Fold 1  Fold 2  Fold 3  Mean    Std     \n",
      "MAE (testset)     0.4518  0.4568  0.4535  0.4540  0.0021  \n",
      "RMSE (testset)    0.6714  0.6751  0.6724  0.6730  0.0015  \n",
      "Fit time          7.38    9.64    4.71    7.24    2.01    \n",
      "Test time         0.61    0.46    0.48    0.51    0.07    \n"
     ]
    }
   ],
   "source": [
    "# 未调整正负样本数\n",
    "df_train['rating'] = df_train['rating'].apply(lambda x: 1.0 if x>=thres_rate else 0.0)\n",
    "algo = trainModel(df_train)\n",
    "\n",
    "# 调整正负样本数 1：1\n",
    "# train_data = sampleData(df_train.values, thres_rate)\n",
    "# df_sample = pd.DataFrame(train_data, columns=['userId', 'movieId', 'rating'])\n",
    "# algo = trainModel(df_sample)"
   ]
  },
  {
   "cell_type": "markdown",
   "metadata": {},
   "source": [
    "推荐系统"
   ]
  },
  {
   "cell_type": "code",
   "execution_count": 13,
   "metadata": {},
   "outputs": [],
   "source": [
    "def recommendation(model, user_item, user_id, item_set, hot_rank, R):\n",
    "    \"\"\"\n",
    "    param：\n",
    "        model: 训练的模型\n",
    "        user_item: 训练集中user-item字典 {user1 : {item1 : rate1, item2 : rate2}, ...}}\n",
    "        user_id：推荐的用户id\n",
    "        item_set: 训练集中的电影集合\n",
    "        hot_rank: 热门电影列表\n",
    "        R：推荐列表中电影个数\n",
    "    return：\n",
    "        rank_sorted：该用户的推荐电影列表 type:dict, key:user, value:dict, key:item, value:score\n",
    "    \"\"\"\n",
    "    # 存储用户推荐电影\n",
    "    rank = {}\n",
    "    # 开辟用户空子字典 ('rank: ', {user_id: {}})\n",
    "    rank.setdefault(user_id, {})\n",
    "\n",
    "    # 如果该用户不在训练集中，则推荐热门电影\n",
    "    if user_id not in user_item:\n",
    "        print('user {} not in trainset, give hot rank list'.format(user_id))\n",
    "        rank[user_id] = hot_rank\n",
    "    else:\n",
    "        # 用户已观看的电影集合\n",
    "        item_watched_list = user_item[user_id]\n",
    "\n",
    "        for item_id in item_set:\n",
    "            if item_id in item_watched_list:\n",
    "                continue\n",
    "            rank[user_id].setdefault(item_id, 0)\n",
    "\n",
    "            # 将模型预测结果赋给rank[user_id][item_id]\n",
    "            rank[user_id][item_id] = model.predict(user_id, item_id).est\n",
    "\n",
    "    # 推荐列表按评分由高到低排序\n",
    "    rank_sorted = {}\n",
    "    rank_sorted[user_id] = sorted(rank[user_id].items(), key=operator.itemgetter(1), reverse=True)[0:R]\n",
    "\n",
    "    return rank_sorted"
   ]
  },
  {
   "cell_type": "markdown",
   "metadata": {},
   "source": [
    "### 电影推荐"
   ]
  },
  {
   "cell_type": "code",
   "execution_count": 15,
   "metadata": {},
   "outputs": [
    {
     "name": "stdout",
     "output_type": "stream",
     "text": [
      "Please input your user ID:105\n",
      "\n",
      "Recommended movies：\n",
      "\n",
      "1. Toy Story\n",
      "--------------------------------------------------\n",
      "2. GoldenEye\n",
      "--------------------------------------------------\n",
      "3. Four Rooms\n",
      "--------------------------------------------------\n",
      "4. Get Shorty\n",
      "--------------------------------------------------\n",
      "5. Copycat\n",
      "--------------------------------------------------\n",
      "6. Twelve Monkeys\n",
      "--------------------------------------------------\n",
      "7. Babe\n",
      "--------------------------------------------------\n",
      "8. Dead Man Walking\n",
      "--------------------------------------------------\n",
      "9. Richard III\n",
      "--------------------------------------------------\n",
      "10. Mighty Aphrodite\n",
      "--------------------------------------------------\n"
     ]
    }
   ],
   "source": [
    "# 输入用户ID\n",
    "user_id = input('Please input your user ID:')\n",
    "\n",
    "recom_list = recommendation(algo, user_item, user_id, df_train['movieId'].unique(), hot_rank, reco_num)\n",
    "# 输出推荐电影\n",
    "print('\\nRecommended movies：\\n')\n",
    "\n",
    "ranknum = 0\n",
    "for idx, rate  in recom_list.values()[0]:\n",
    "    ranknum += 1\n",
    "    print(\"%d. %s\" %(ranknum, movies[movies['movieId'] == idx]['title'].values[0]))\n",
    "    print '-'*50\n"
   ]
  },
  {
   "cell_type": "code",
   "execution_count": null,
   "metadata": {},
   "outputs": [],
   "source": []
  }
 ],
 "metadata": {
  "kernelspec": {
   "display_name": "Python 2",
   "language": "python",
   "name": "python2"
  },
  "language_info": {
   "codemirror_mode": {
    "name": "ipython",
    "version": 2
   },
   "file_extension": ".py",
   "mimetype": "text/x-python",
   "name": "python",
   "nbconvert_exporter": "python",
   "pygments_lexer": "ipython2",
   "version": "2.7.5"
  }
 },
 "nbformat": 4,
 "nbformat_minor": 2
}
