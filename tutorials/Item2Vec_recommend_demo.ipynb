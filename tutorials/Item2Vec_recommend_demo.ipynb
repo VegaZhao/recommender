{
 "cells": [
  {
   "cell_type": "markdown",
   "metadata": {},
   "source": [
    "## Item2Vec"
   ]
  },
  {
   "cell_type": "markdown",
   "metadata": {},
   "source": [
    "通过基于相似item做推荐的一种方法，将用户观看（喜欢）的电影id集合看作句子，将全部用户的item集合作为整个文本，使用word2vec训练出item对应的词向量，然后计算相似度，获得相似item。"
   ]
  },
  {
   "cell_type": "code",
   "execution_count": 2,
   "metadata": {},
   "outputs": [],
   "source": [
    "# coding=utf-8\n",
    "import os\n",
    "import pandas as pd\n",
    "import numpy as np\n",
    "import operator\n",
    "import time\n",
    "import gensim\n",
    "from sklearn.metrics.pairwise import cosine_similarity"
   ]
  },
  {
   "cell_type": "markdown",
   "metadata": {},
   "source": [
    "### 读取数据"
   ]
  },
  {
   "cell_type": "code",
   "execution_count": 4,
   "metadata": {},
   "outputs": [],
   "source": [
    "movies = pd.read_csv('/home/zwj/Desktop/recommend/movielens/moive_database/v1/v1_movie_info.csv',\\\n",
    "                        usecols=[0, 1, 6], header=0, names=['movieId', 'title', 'genres'])\n",
    "\n",
    "df_train = pd.read_csv('/home/zwj/Desktop/recommend/movielens/moive_database/v1/v1_train.csv', \\\n",
    "                       usecols=[0, 1, 2])  # userId, movieId, rating"
   ]
  },
  {
   "cell_type": "markdown",
   "metadata": {},
   "source": [
    "### 设置参数"
   ]
  },
  {
   "cell_type": "code",
   "execution_count": 58,
   "metadata": {},
   "outputs": [],
   "source": [
    "# 推荐电影数\n",
    "reco_num = 10\n",
    "# 加权求和计算的相似项个数\n",
    "sim_num = 10\n",
    "# word2vec训练的模型文件\n",
    "item2vec_model_file = './item2vec.model'\n",
    "# 词向量维度\n",
    "vec_dim = 128\n",
    "# word2vec模型训练迭代数\n",
    "iterations = 1000"
   ]
  },
  {
   "cell_type": "markdown",
   "metadata": {},
   "source": [
    "### 功能函数"
   ]
  },
  {
   "cell_type": "markdown",
   "metadata": {},
   "source": [
    "获取全局热门电影"
   ]
  },
  {
   "cell_type": "code",
   "execution_count": 16,
   "metadata": {},
   "outputs": [
    {
     "data": {
      "text/plain": [
       "{1: 0.94,\n",
       " 50: 1.0,\n",
       " 56: 0.91,\n",
       " 100: 0.97,\n",
       " 174: 0.92,\n",
       " 181: 0.99,\n",
       " 258: 0.98,\n",
       " 288: 0.95,\n",
       " 294: 0.96,\n",
       " 300: 0.9299999999999999}"
      ]
     },
     "execution_count": 16,
     "metadata": {},
     "output_type": "execute_result"
    }
   ],
   "source": [
    "def getHotItem(df_train, N=5):\n",
    "    \"\"\"\n",
    "    param:\n",
    "        df_train: 训练数据集 type:dataframe\n",
    "        N: 推荐的电影数\n",
    "    return: \n",
    "        hot_rank: 该用户的推荐热门电影列表 type:dict, key:user, value:dict, key:item, value:sim\n",
    "    \"\"\"\n",
    "\n",
    "    item_count = df_train.groupby('movieId')['rating'].count().sort_values(ascending=False)\n",
    "\n",
    "    hot_rank = {}\n",
    "\n",
    "    r = 0\n",
    "    for item_id in item_count[0:N].index:\n",
    "        hot_rank[item_id] = 1 - 0.01 * r\n",
    "        r += 1\n",
    "    return hot_rank\n",
    "\n",
    "hot_rank = getHotItem(df_train, reco_num)\n",
    "\n",
    "hot_rank"
   ]
  },
  {
   "cell_type": "markdown",
   "metadata": {},
   "source": [
    "生成用户-电影排列表"
   ]
  },
  {
   "cell_type": "code",
   "execution_count": 17,
   "metadata": {},
   "outputs": [
    {
     "data": {
      "text/plain": [
       "{264.0: 2.0,\n",
       " 270.0: 5.0,\n",
       " 271.0: 2.0,\n",
       " 288.0: 4.0,\n",
       " 302.0: 5.0,\n",
       " 313.0: 5.0,\n",
       " 324.0: 4.0,\n",
       " 327.0: 4.0,\n",
       " 340.0: 3.0,\n",
       " 343.0: 2.0,\n",
       " 347.0: 3.0,\n",
       " 690.0: 3.0,\n",
       " 751.0: 2.0,\n",
       " 880.0: 3.0}"
      ]
     },
     "execution_count": 17,
     "metadata": {},
     "output_type": "execute_result"
    }
   ],
   "source": [
    "def userItemDict(data):\n",
    "    \"\"\"\n",
    "    param:\n",
    "        data: lsit [user, item, rating]\n",
    "    return:\n",
    "        user_item: 用户-电影排列表 type:dict, key:user, value:dict, key:item, value:rate\n",
    "    \"\"\"\n",
    "    user_item = {}\n",
    "    for user, item, rate in data:\n",
    "        if user not in user_item:\n",
    "            user_item[user] = {}\n",
    "        user_item[user].update({item: rate})\n",
    "    return user_item\n",
    "\n",
    "# 生成user-tiem排列表\n",
    "user_item = userItemDict(df_train.values)\n",
    "\n",
    "user_item[105]"
   ]
  },
  {
   "cell_type": "markdown",
   "metadata": {},
   "source": [
    "获得训练语料（itemword），用户在历史数据中观看的（喜欢的）电影集合作为itemWord，每个用户对应的list可看作是一个句子。"
   ]
  },
  {
   "cell_type": "code",
   "execution_count": 18,
   "metadata": {},
   "outputs": [
    {
     "data": {
      "text/plain": [
       "['258', '271', '300', '301', '324', '327', '329', '360', '362']"
      ]
     },
     "execution_count": 18,
     "metadata": {},
     "output_type": "execute_result"
    }
   ],
   "source": [
    "def itemWord(data):\n",
    "    \"\"\"\n",
    "    param:\n",
    "        data: type:ndarray [[user, item, rating],[...]]\n",
    "    \"\"\"\n",
    "    # 将data转成如下字典格式，注意itemid存储的是字符串\n",
    "    # {userid1: ['itemid1', 'itemid2'], userid2: [...], ...}\n",
    "    user_itemWord = {}\n",
    "    for user, item, rate in data:\n",
    "        if user not in user_itemWord:\n",
    "            # int()是为了最后去掉小数点.0的部分\n",
    "            user_itemWord[int(user)] = []\n",
    "        # 判断，电影评分大于3的，归到感兴趣的影片集中\n",
    "        if rate > 3.0:\n",
    "            # str()将itemid转成字符串，因为join的对象必须是字符串\n",
    "            user_itemWord[user].append(str(int(item)))\n",
    "    # 保存user_itemWord中values部分['itemid1', 'itemid2']，每个用户的item集合为一行，看作一个句子\n",
    "    itemwords = user_itemWord.values()\n",
    "    return itemwords\n",
    "    \n",
    "train_corpus = itemWord(df_train.values)\n",
    "\n",
    "train_corpus[3]"
   ]
  },
  {
   "cell_type": "markdown",
   "metadata": {},
   "source": [
    "训练word2vec模型"
   ]
  },
  {
   "cell_type": "code",
   "execution_count": 44,
   "metadata": {},
   "outputs": [],
   "source": [
    "def trainWord2vecModel(train_corpus, save_model):\n",
    "    # 训练模型\n",
    "    model = gensim.models.Word2Vec(train_corpus, size=vec_dim, window=2, sample=1e-4, \\\n",
    "                                   negative=5, hs=0, sg=1, iter=iterations, min_count=1)\n",
    "    # 保存模型\n",
    "    model.save(save_model)\n",
    "    return model\n",
    "\n",
    "model_item2vec = trainWord2vecModel(train_corpus, item2vec_model_file)"
   ]
  },
  {
   "cell_type": "markdown",
   "metadata": {},
   "source": [
    "加载model"
   ]
  },
  {
   "cell_type": "code",
   "execution_count": null,
   "metadata": {},
   "outputs": [],
   "source": [
    "# model_item2vec = gensim.models.Word2Vec.load(item2vec_model_file)"
   ]
  },
  {
   "cell_type": "markdown",
   "metadata": {},
   "source": [
    "获取item对应的向量集合"
   ]
  },
  {
   "cell_type": "code",
   "execution_count": 53,
   "metadata": {},
   "outputs": [],
   "source": [
    "def getItemVec(model, item_set):\n",
    "    item_vec = {}\n",
    "    for itemid in item_set:\n",
    "        try:\n",
    "            item_vec[itemid] = model.wv[str(itemid)]\n",
    "        except:\n",
    "            # print('itemid:'+ str(itemid) + ' not found')\n",
    "            continue\n",
    "    return item_vec\n",
    "\n",
    "item_vec = getItemVec(model_item2vec, df_train['movieId'].unique())"
   ]
  },
  {
   "cell_type": "markdown",
   "metadata": {},
   "source": [
    "计算item_vec的相似度"
   ]
  },
  {
   "cell_type": "code",
   "execution_count": 54,
   "metadata": {},
   "outputs": [],
   "source": [
    "def calItemSim(item_vec, item_id, K=10):\n",
    "    \"\"\"\n",
    "    param:\n",
    "        item_vec: type:dict key:userid values:词向量\n",
    "        item_id: 电影id\n",
    "        K: 考虑相似item的个数，默认为10\n",
    "    return: \n",
    "        score：返回与item_id相似的id及相似度，type:list [(itemid1, sim1), (itemid2, sim2)]\n",
    "    \"\"\"\n",
    "    # 如果item_id不在item向量字典中，返回空\n",
    "    if item_id not in item_vec:\n",
    "        return\n",
    "\n",
    "    score = {}\n",
    "    fix_item_vec = item_vec[item_id]\n",
    "\n",
    "    # 遍历向量字典中的所有itemid，与该item_id计算相似度\n",
    "    for tmp_itemid in item_vec:\n",
    "        # 如果是自己，则跳过\n",
    "        if tmp_itemid == item_id:\n",
    "            continue\n",
    "        tmp_itemvec = item_vec[tmp_itemid]\n",
    "\n",
    "        # 计算cosine相似度方法1，使用函数\n",
    "        tmp_sim = np.concatenate((fix_item_vec.reshape(1, -1), tmp_itemvec.reshape(1, -1)), axis=0)\n",
    "        # cosine_similarity返回列表中[0, 1]位置就是需要的相似度的值\n",
    "        score[tmp_itemid] = cosine_similarity(tmp_sim)[0, 1]\n",
    "\n",
    "        # 计算cosine相似度方法2，直接计算\n",
    "        # fenmu = np.linalg.norm(fix_item_vec) * np.linalg.norm(tmp_itemvec)\n",
    "        # if fenmu == 0:\n",
    "        #     score[tmp_itemid] = 0\n",
    "        # else:\n",
    "        #     score[tmp_itemid] = round(np.dot(fix_item_vec, tmp_itemvec)/fenmu, 3)\n",
    "\n",
    "    # 对item向量相似度字典进行排序，返回前K个向此向量\n",
    "    score = sorted(score.items(), key=operator.itemgetter(1), reverse=True)[0:K]\n",
    "    return score"
   ]
  },
  {
   "cell_type": "markdown",
   "metadata": {},
   "source": [
    "推荐系统"
   ]
  },
  {
   "cell_type": "code",
   "execution_count": 55,
   "metadata": {},
   "outputs": [],
   "source": [
    "def recommendation(user_item, user_id, hot_rank, item_vec, K, R):\n",
    "    \"\"\"\n",
    "    param:\n",
    "        user_item: 用户-电影排列表 type:dict, key:user, value:dict, key:item, value:rate\n",
    "        user_id: 推荐的用户id\n",
    "        hot_rank: 热门电影列表, type:dict, key:user, value:dict, key:item, value:sim\n",
    "        item_vec: item词向量\n",
    "        K: 前K个最相似用户\n",
    "        R: 推荐列表中电影个数\n",
    "    return: \n",
    "        rank_sorted：该用户的推荐电影列表 type:dict, key:user, value:dict, key:item, value:sim\n",
    "    \"\"\"\n",
    "    # 存储用户推荐电影\n",
    "    rank = {}\n",
    "    # 开辟用户空子字典 ('rank: ', {user_id: {}})\n",
    "    rank.setdefault(user_id, {})\n",
    "\n",
    "    # 如果该用户不在训练集中，则推荐热门电影\n",
    "    if user_id not in user_item:\n",
    "        print('user {} not in trainset, give hot rank list'.format(user_id))\n",
    "        rank[user_id] = hot_rank\n",
    "    else:\n",
    "        # 用户已观看的电影集合\n",
    "        watched_item_list = user_item[user_id]\n",
    "        # 该指标用于判断，如果userid用户中观看的电影itemid均不再item词向量中，则没有相似度判断依据，返回热门电影\n",
    "        item_in_vec = False\n",
    "        # item_i:项目号， ri:对应的评分（兴趣度）\n",
    "        for item_i, ri in watched_item_list.items():\n",
    "            if item_i not in item_vec:\n",
    "                continue\n",
    "            # 只要存在一个及以上的item在item词向量中，则表示为True，不用返回热门电影\n",
    "            item_in_vec = True\n",
    "            # 获得itemid的相似item集\n",
    "            simMovie = calItemSim(item_vec, item_i, K)\n",
    "            # 遍历该item集合，推荐的电影在这个集合中选择\n",
    "            for item_j, simj in simMovie:\n",
    "                # 如果item是已观看过的，则跳过\n",
    "                if item_j in watched_item_list:\n",
    "                    continue\n",
    "\n",
    "                rank[user_id].setdefault(item_j, 0)\n",
    "                # 电影推荐度 = 用户评分（或者兴趣度）* 电影相似度\n",
    "                rank[user_id][item_j] += ri * simj\n",
    "        # userid用户中观看的电影itemid均不再item词向量中，则没有相似度判断依据，返回热门电影\n",
    "        if item_in_vec == False:\n",
    "            rank[user_id] = hot_rank\n",
    "\n",
    "    # 对推荐的电影排序，返回前R部电影\n",
    "    rank_sorted = {}\n",
    "    rank_sorted[user_id] = sorted(rank[user_id].items(), key=operator.itemgetter(1), reverse=True)[0:R]\n",
    "\n",
    "    return rank_sorted"
   ]
  },
  {
   "cell_type": "markdown",
   "metadata": {},
   "source": [
    "### 电影推荐"
   ]
  },
  {
   "cell_type": "code",
   "execution_count": 59,
   "metadata": {},
   "outputs": [
    {
     "name": "stdout",
     "output_type": "stream",
     "text": [
      "Please input your user ID:105\n",
      "\n",
      "Recommended movies：\n",
      "\n",
      "1. Apt Pupil\n",
      "--------------------------------------------------\n",
      "2. Air Force One\n",
      "--------------------------------------------------\n",
      "3. Steel\n",
      "--------------------------------------------------\n",
      "4. Face/Off\n",
      "--------------------------------------------------\n",
      "5. Critical Care\n",
      "--------------------------------------------------\n",
      "6. Contact\n",
      "--------------------------------------------------\n",
      "7. Ulee's Gold\n",
      "--------------------------------------------------\n",
      "8. Kiss the Girls\n",
      "--------------------------------------------------\n",
      "9. Good Will Hunting\n",
      "--------------------------------------------------\n",
      "10. Jackie Brown\n",
      "--------------------------------------------------\n"
     ]
    }
   ],
   "source": [
    "# 输入用户ID\n",
    "user_id = input('Please input your user ID:')\n",
    "\n",
    "recom_list = recommendation(user_item, user_id, hot_rank, item_vec, sim_num, reco_num)\n",
    "# 输出推荐电影\n",
    "print('\\nRecommended movies：\\n')\n",
    "\n",
    "ranknum = 0\n",
    "for idx, rate  in recom_list.values()[0]:\n",
    "    ranknum += 1\n",
    "    print(\"%d. %s\" %(ranknum, movies[movies['movieId'] == idx]['title'].values[0]))\n",
    "    print '-'*50\n"
   ]
  },
  {
   "cell_type": "code",
   "execution_count": null,
   "metadata": {},
   "outputs": [],
   "source": []
  }
 ],
 "metadata": {
  "kernelspec": {
   "display_name": "Python 2",
   "language": "python",
   "name": "python2"
  },
  "language_info": {
   "codemirror_mode": {
    "name": "ipython",
    "version": 2
   },
   "file_extension": ".py",
   "mimetype": "text/x-python",
   "name": "python",
   "nbconvert_exporter": "python",
   "pygments_lexer": "ipython2",
   "version": "2.7.5"
  }
 },
 "nbformat": 4,
 "nbformat_minor": 2
}
